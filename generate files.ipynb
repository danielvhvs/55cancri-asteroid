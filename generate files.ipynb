{
 "cells": [
  {
   "cell_type": "code",
   "execution_count": 1,
   "id": "efda2a7c",
   "metadata": {},
   "outputs": [],
   "source": [
    "#generate files with different names by copying them from one basic file\n",
    "for i in range(1,1001):\n",
    "    fileName = \"55cancri_iteration\" + str(i) + \".py\"\n",
    "    with open(fileName,\"w\") as f_out:\n",
    "        with open(\"basicCode.py\",\"r\") as fd_out:\n",
    "            for line in fd_out:\n",
    "                if line==\"iteration=0\\n\":\n",
    "                    text=\"iteration=\" + str(i) + \"\\n\"\n",
    "                else:\n",
    "                    text=line\n",
    "                f_out.write(text)\n",
    "        fd_out.close()\n",
    "    f_out.close()   \n"
   ]
  }
 ],
 "metadata": {
  "kernelspec": {
   "display_name": "Python 3",
   "language": "python",
   "name": "python3"
  },
  "language_info": {
   "codemirror_mode": {
    "name": "ipython",
    "version": 3
   },
   "file_extension": ".py",
   "mimetype": "text/x-python",
   "name": "python",
   "nbconvert_exporter": "python",
   "pygments_lexer": "ipython3",
   "version": "3.8.10"
  }
 },
 "nbformat": 4,
 "nbformat_minor": 5
}
