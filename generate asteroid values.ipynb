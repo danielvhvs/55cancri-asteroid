{
 "cells": [
  {
   "cell_type": "code",
   "execution_count": 1,
   "id": "243887b3",
   "metadata": {},
   "outputs": [],
   "source": [
    "import numpy as np\n",
    "import random\n",
    "\n",
    "\n",
    "#create 100,000 random starting parameters for 100,000 test particles and put them in a file\n",
    "N_testparticle = 100000\n",
    "a = np.random.uniform(0,20, N_testparticle)\n",
    "random.shuffle(a)\n",
    "e = np.random.uniform(0.0,0.5, N_testparticle)\n",
    "random.shuffle(e)\n",
    "inc = np.random.uniform(0.0,3.0, N_testparticle)\n",
    "random.shuffle(inc)\n",
    "\n",
    "with open(\"asteroidValues.dat\",\"w\") as fd_out:\n",
    "    for i in range(N_testparticle):\n",
    "        fd_out.write(str(a[i])+\"\\t\"+str(e[i])+\"\\t\"+str(inc[i])+\"\\n\")\n",
    "fd_out.close()\n"
   ]
  },
  {
   "cell_type": "code",
   "execution_count": 2,
   "id": "cbeb3be4",
   "metadata": {},
   "outputs": [
    {
     "name": "stdout",
     "output_type": "stream",
     "text": [
      "[14.08695338 10.70279757 12.05414484 ... 11.06459394 15.3820303\n",
      " 17.13724995]\n"
     ]
    }
   ],
   "source": [
    "data = np.genfromtxt(\"asteroidValues.dat\")\n",
    "print(data[::,0])"
   ]
  }
 ],
 "metadata": {
  "kernelspec": {
   "display_name": "Python 3",
   "language": "python",
   "name": "python3"
  },
  "language_info": {
   "codemirror_mode": {
    "name": "ipython",
    "version": 3
   },
   "file_extension": ".py",
   "mimetype": "text/x-python",
   "name": "python",
   "nbconvert_exporter": "python",
   "pygments_lexer": "ipython3",
   "version": "3.8.10"
  }
 },
 "nbformat": 4,
 "nbformat_minor": 5
}
